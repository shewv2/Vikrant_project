{
  "nbformat": 4,
  "nbformat_minor": 0,
  "metadata": {
    "colab": {
      "provenance": [],
      "mount_file_id": "1w_g6CKmNTq1qn3ReTdlQyM_omaOuotld",
      "authorship_tag": "ABX9TyOCUT5m8wti3xnn0f+pJkyz",
      "include_colab_link": true
    },
    "kernelspec": {
      "name": "python3",
      "display_name": "Python 3"
    },
    "language_info": {
      "name": "python"
    }
  },
  "cells": [
    {
      "cell_type": "markdown",
      "metadata": {
        "id": "view-in-github",
        "colab_type": "text"
      },
      "source": [
        "<a href=\"https://colab.research.google.com/github/shewv2/Vikrant_project/blob/main/Copy_of_DMART.ipynb\" target=\"_parent\"><img src=\"https://colab.research.google.com/assets/colab-badge.svg\" alt=\"Open In Colab\"/></a>"
      ]
    },
    {
      "cell_type": "code",
      "execution_count": 18,
      "metadata": {
        "id": "YPjslwZwJlmd"
      },
      "outputs": [],
      "source": [
        "import pandas as pd\n",
        "import numpy as np\n",
        "import matplotlib.pyplot as plt\n",
        "import seaborn as sns\n"
      ]
    },
    {
      "cell_type": "code",
      "source": [
        "from google.colab import drive"
      ],
      "metadata": {
        "id": "pY80U4jhLIpy"
      },
      "execution_count": 19,
      "outputs": []
    },
    {
      "cell_type": "code",
      "source": [
        "from google.colab import drive\n",
        "drive.mount('/content/drive')"
      ],
      "metadata": {
        "id": "NBcDZWsHZKYp",
        "colab": {
          "base_uri": "https://localhost:8080/"
        },
        "outputId": "acdcf3aa-0724-4a88-a2aa-98f606919259"
      },
      "execution_count": 78,
      "outputs": [
        {
          "output_type": "stream",
          "name": "stdout",
          "text": [
            "Drive already mounted at /content/drive; to attempt to forcibly remount, call drive.mount(\"/content/drive\", force_remount=True).\n"
          ]
        }
      ]
    },
    {
      "cell_type": "code",
      "source": [
        "drive.mount('/content/drive')"
      ],
      "metadata": {
        "colab": {
          "base_uri": "https://localhost:8080/"
        },
        "id": "Y6BblCveLRSE",
        "outputId": "121f71eb-e45b-49ac-fdd7-f3bb96de7ea0"
      },
      "execution_count": 29,
      "outputs": [
        {
          "output_type": "stream",
          "name": "stdout",
          "text": [
            "Drive already mounted at /content/drive; to attempt to forcibly remount, call drive.mount(\"/content/drive\", force_remount=True).\n"
          ]
        }
      ]
    },
    {
      "cell_type": "code",
      "source": [
        "DMart = pd.read_csv('/content/DMart.csv')\n",
        "DMart"
      ],
      "metadata": {
        "colab": {
          "base_uri": "https://localhost:8080/",
          "height": 649
        },
        "collapsed": true,
        "id": "2uxURMH7O2YP",
        "outputId": "1987f11a-9aab-4853-d2c7-20efa5b14a06"
      },
      "execution_count": 30,
      "outputs": [
        {
          "output_type": "execute_result",
          "data": {
            "text/plain": [
              "                                           Name    Brand   Price  \\\n",
              "0                        Premia Badam (Almonds)   Premia   451.0   \n",
              "1                        Premia Badam (Almonds)   Premia   109.0   \n",
              "2                        Premia Badam (Almonds)   Premia   202.0   \n",
              "3             Nutraj California Almonds (Badam)   Nutraj   599.0   \n",
              "4             Nutraj California Almonds (Badam)   Nutraj  1549.0   \n",
              "...                                         ...      ...     ...   \n",
              "5184       Navneet Youva A4 Notebook - Assorted  Navneet    55.0   \n",
              "5185  Navneet Youva Longbook Journal - Assorted  Navneet    85.0   \n",
              "5186     Navneet Youva Long Notebook - Assorted  Navneet    55.0   \n",
              "5187      Navneet Youva Drawing Book - Assorted  Navneet   110.0   \n",
              "5188  Navneet Youva Canvas Board (10x12 Inches)  Navneet    90.0   \n",
              "\n",
              "      DiscountedPrice         Category         SubCategory Quantity  \\\n",
              "0               329.0          Grocery  Grocery/Dry Fruits   500 gm   \n",
              "1                85.0          Grocery  Grocery/Dry Fruits   100 gm   \n",
              "2               175.0          Grocery  Grocery/Dry Fruits   200 gm   \n",
              "3               349.0          Grocery          Dry Fruits   500 gm   \n",
              "4               659.0          Grocery          Dry Fruits     1 kg   \n",
              "...               ...              ...                 ...      ...   \n",
              "5184             36.0  School Supplies        School Needs   1 Book   \n",
              "5185             69.0  School Supplies        School Needs   1 Book   \n",
              "5186             40.0  School Supplies        School Needs   1 Book   \n",
              "5187             72.0  School Supplies        School Needs   1 Book   \n",
              "5188             75.0  School Supplies        School Needs      1 U   \n",
              "\n",
              "                                            Description  \\\n",
              "0                                                 India   \n",
              "1                                                 India   \n",
              "2                                                 India   \n",
              "3                                                   USA   \n",
              "4                                                   USA   \n",
              "...                                                 ...   \n",
              "5184  OverviewEach book has an index page with label...   \n",
              "5185  OverviewStrong & sturdy case binding. Easy to ...   \n",
              "5186  OverviewAttractive colour and designs. Easy to...   \n",
              "5187  OverviewDrawing book has attractive cover desi...   \n",
              "5188  OverviewCoated with a double layer of acrylic ...   \n",
              "\n",
              "                         BreadCrumbs  \n",
              "0       Grocery > Grocery/Dry Fruits  \n",
              "1       Grocery > Grocery/Dry Fruits  \n",
              "2       Grocery > Grocery/Dry Fruits  \n",
              "3               Grocery > Dry Fruits  \n",
              "4               Grocery > Dry Fruits  \n",
              "...                              ...  \n",
              "5184  School Supplies > School Needs  \n",
              "5185  School Supplies > School Needs  \n",
              "5186  School Supplies > School Needs  \n",
              "5187  School Supplies > School Needs  \n",
              "5188  School Supplies > School Needs  \n",
              "\n",
              "[5189 rows x 9 columns]"
            ],
            "text/html": [
              "\n",
              "  <div id=\"df-f5cb1fce-3ee4-4242-82f0-be2879b85d53\" class=\"colab-df-container\">\n",
              "    <div>\n",
              "<style scoped>\n",
              "    .dataframe tbody tr th:only-of-type {\n",
              "        vertical-align: middle;\n",
              "    }\n",
              "\n",
              "    .dataframe tbody tr th {\n",
              "        vertical-align: top;\n",
              "    }\n",
              "\n",
              "    .dataframe thead th {\n",
              "        text-align: right;\n",
              "    }\n",
              "</style>\n",
              "<table border=\"1\" class=\"dataframe\">\n",
              "  <thead>\n",
              "    <tr style=\"text-align: right;\">\n",
              "      <th></th>\n",
              "      <th>Name</th>\n",
              "      <th>Brand</th>\n",
              "      <th>Price</th>\n",
              "      <th>DiscountedPrice</th>\n",
              "      <th>Category</th>\n",
              "      <th>SubCategory</th>\n",
              "      <th>Quantity</th>\n",
              "      <th>Description</th>\n",
              "      <th>BreadCrumbs</th>\n",
              "    </tr>\n",
              "  </thead>\n",
              "  <tbody>\n",
              "    <tr>\n",
              "      <th>0</th>\n",
              "      <td>Premia Badam (Almonds)</td>\n",
              "      <td>Premia</td>\n",
              "      <td>451.0</td>\n",
              "      <td>329.0</td>\n",
              "      <td>Grocery</td>\n",
              "      <td>Grocery/Dry Fruits</td>\n",
              "      <td>500 gm</td>\n",
              "      <td>India</td>\n",
              "      <td>Grocery &gt; Grocery/Dry Fruits</td>\n",
              "    </tr>\n",
              "    <tr>\n",
              "      <th>1</th>\n",
              "      <td>Premia Badam (Almonds)</td>\n",
              "      <td>Premia</td>\n",
              "      <td>109.0</td>\n",
              "      <td>85.0</td>\n",
              "      <td>Grocery</td>\n",
              "      <td>Grocery/Dry Fruits</td>\n",
              "      <td>100 gm</td>\n",
              "      <td>India</td>\n",
              "      <td>Grocery &gt; Grocery/Dry Fruits</td>\n",
              "    </tr>\n",
              "    <tr>\n",
              "      <th>2</th>\n",
              "      <td>Premia Badam (Almonds)</td>\n",
              "      <td>Premia</td>\n",
              "      <td>202.0</td>\n",
              "      <td>175.0</td>\n",
              "      <td>Grocery</td>\n",
              "      <td>Grocery/Dry Fruits</td>\n",
              "      <td>200 gm</td>\n",
              "      <td>India</td>\n",
              "      <td>Grocery &gt; Grocery/Dry Fruits</td>\n",
              "    </tr>\n",
              "    <tr>\n",
              "      <th>3</th>\n",
              "      <td>Nutraj California Almonds (Badam)</td>\n",
              "      <td>Nutraj</td>\n",
              "      <td>599.0</td>\n",
              "      <td>349.0</td>\n",
              "      <td>Grocery</td>\n",
              "      <td>Dry Fruits</td>\n",
              "      <td>500 gm</td>\n",
              "      <td>USA</td>\n",
              "      <td>Grocery &gt; Dry Fruits</td>\n",
              "    </tr>\n",
              "    <tr>\n",
              "      <th>4</th>\n",
              "      <td>Nutraj California Almonds (Badam)</td>\n",
              "      <td>Nutraj</td>\n",
              "      <td>1549.0</td>\n",
              "      <td>659.0</td>\n",
              "      <td>Grocery</td>\n",
              "      <td>Dry Fruits</td>\n",
              "      <td>1 kg</td>\n",
              "      <td>USA</td>\n",
              "      <td>Grocery &gt; Dry Fruits</td>\n",
              "    </tr>\n",
              "    <tr>\n",
              "      <th>...</th>\n",
              "      <td>...</td>\n",
              "      <td>...</td>\n",
              "      <td>...</td>\n",
              "      <td>...</td>\n",
              "      <td>...</td>\n",
              "      <td>...</td>\n",
              "      <td>...</td>\n",
              "      <td>...</td>\n",
              "      <td>...</td>\n",
              "    </tr>\n",
              "    <tr>\n",
              "      <th>5184</th>\n",
              "      <td>Navneet Youva A4 Notebook - Assorted</td>\n",
              "      <td>Navneet</td>\n",
              "      <td>55.0</td>\n",
              "      <td>36.0</td>\n",
              "      <td>School Supplies</td>\n",
              "      <td>School Needs</td>\n",
              "      <td>1 Book</td>\n",
              "      <td>OverviewEach book has an index page with label...</td>\n",
              "      <td>School Supplies &gt; School Needs</td>\n",
              "    </tr>\n",
              "    <tr>\n",
              "      <th>5185</th>\n",
              "      <td>Navneet Youva Longbook Journal - Assorted</td>\n",
              "      <td>Navneet</td>\n",
              "      <td>85.0</td>\n",
              "      <td>69.0</td>\n",
              "      <td>School Supplies</td>\n",
              "      <td>School Needs</td>\n",
              "      <td>1 Book</td>\n",
              "      <td>OverviewStrong &amp; sturdy case binding. Easy to ...</td>\n",
              "      <td>School Supplies &gt; School Needs</td>\n",
              "    </tr>\n",
              "    <tr>\n",
              "      <th>5186</th>\n",
              "      <td>Navneet Youva Long Notebook - Assorted</td>\n",
              "      <td>Navneet</td>\n",
              "      <td>55.0</td>\n",
              "      <td>40.0</td>\n",
              "      <td>School Supplies</td>\n",
              "      <td>School Needs</td>\n",
              "      <td>1 Book</td>\n",
              "      <td>OverviewAttractive colour and designs. Easy to...</td>\n",
              "      <td>School Supplies &gt; School Needs</td>\n",
              "    </tr>\n",
              "    <tr>\n",
              "      <th>5187</th>\n",
              "      <td>Navneet Youva Drawing Book - Assorted</td>\n",
              "      <td>Navneet</td>\n",
              "      <td>110.0</td>\n",
              "      <td>72.0</td>\n",
              "      <td>School Supplies</td>\n",
              "      <td>School Needs</td>\n",
              "      <td>1 Book</td>\n",
              "      <td>OverviewDrawing book has attractive cover desi...</td>\n",
              "      <td>School Supplies &gt; School Needs</td>\n",
              "    </tr>\n",
              "    <tr>\n",
              "      <th>5188</th>\n",
              "      <td>Navneet Youva Canvas Board (10x12 Inches)</td>\n",
              "      <td>Navneet</td>\n",
              "      <td>90.0</td>\n",
              "      <td>75.0</td>\n",
              "      <td>School Supplies</td>\n",
              "      <td>School Needs</td>\n",
              "      <td>1 U</td>\n",
              "      <td>OverviewCoated with a double layer of acrylic ...</td>\n",
              "      <td>School Supplies &gt; School Needs</td>\n",
              "    </tr>\n",
              "  </tbody>\n",
              "</table>\n",
              "<p>5189 rows × 9 columns</p>\n",
              "</div>\n",
              "    <div class=\"colab-df-buttons\">\n",
              "\n",
              "  <div class=\"colab-df-container\">\n",
              "    <button class=\"colab-df-convert\" onclick=\"convertToInteractive('df-f5cb1fce-3ee4-4242-82f0-be2879b85d53')\"\n",
              "            title=\"Convert this dataframe to an interactive table.\"\n",
              "            style=\"display:none;\">\n",
              "\n",
              "  <svg xmlns=\"http://www.w3.org/2000/svg\" height=\"24px\" viewBox=\"0 -960 960 960\">\n",
              "    <path d=\"M120-120v-720h720v720H120Zm60-500h600v-160H180v160Zm220 220h160v-160H400v160Zm0 220h160v-160H400v160ZM180-400h160v-160H180v160Zm440 0h160v-160H620v160ZM180-180h160v-160H180v160Zm440 0h160v-160H620v160Z\"/>\n",
              "  </svg>\n",
              "    </button>\n",
              "\n",
              "  <style>\n",
              "    .colab-df-container {\n",
              "      display:flex;\n",
              "      gap: 12px;\n",
              "    }\n",
              "\n",
              "    .colab-df-convert {\n",
              "      background-color: #E8F0FE;\n",
              "      border: none;\n",
              "      border-radius: 50%;\n",
              "      cursor: pointer;\n",
              "      display: none;\n",
              "      fill: #1967D2;\n",
              "      height: 32px;\n",
              "      padding: 0 0 0 0;\n",
              "      width: 32px;\n",
              "    }\n",
              "\n",
              "    .colab-df-convert:hover {\n",
              "      background-color: #E2EBFA;\n",
              "      box-shadow: 0px 1px 2px rgba(60, 64, 67, 0.3), 0px 1px 3px 1px rgba(60, 64, 67, 0.15);\n",
              "      fill: #174EA6;\n",
              "    }\n",
              "\n",
              "    .colab-df-buttons div {\n",
              "      margin-bottom: 4px;\n",
              "    }\n",
              "\n",
              "    [theme=dark] .colab-df-convert {\n",
              "      background-color: #3B4455;\n",
              "      fill: #D2E3FC;\n",
              "    }\n",
              "\n",
              "    [theme=dark] .colab-df-convert:hover {\n",
              "      background-color: #434B5C;\n",
              "      box-shadow: 0px 1px 3px 1px rgba(0, 0, 0, 0.15);\n",
              "      filter: drop-shadow(0px 1px 2px rgba(0, 0, 0, 0.3));\n",
              "      fill: #FFFFFF;\n",
              "    }\n",
              "  </style>\n",
              "\n",
              "    <script>\n",
              "      const buttonEl =\n",
              "        document.querySelector('#df-f5cb1fce-3ee4-4242-82f0-be2879b85d53 button.colab-df-convert');\n",
              "      buttonEl.style.display =\n",
              "        google.colab.kernel.accessAllowed ? 'block' : 'none';\n",
              "\n",
              "      async function convertToInteractive(key) {\n",
              "        const element = document.querySelector('#df-f5cb1fce-3ee4-4242-82f0-be2879b85d53');\n",
              "        const dataTable =\n",
              "          await google.colab.kernel.invokeFunction('convertToInteractive',\n",
              "                                                    [key], {});\n",
              "        if (!dataTable) return;\n",
              "\n",
              "        const docLinkHtml = 'Like what you see? Visit the ' +\n",
              "          '<a target=\"_blank\" href=https://colab.research.google.com/notebooks/data_table.ipynb>data table notebook</a>'\n",
              "          + ' to learn more about interactive tables.';\n",
              "        element.innerHTML = '';\n",
              "        dataTable['output_type'] = 'display_data';\n",
              "        await google.colab.output.renderOutput(dataTable, element);\n",
              "        const docLink = document.createElement('div');\n",
              "        docLink.innerHTML = docLinkHtml;\n",
              "        element.appendChild(docLink);\n",
              "      }\n",
              "    </script>\n",
              "  </div>\n",
              "\n",
              "\n",
              "<div id=\"df-f1e7541f-5845-4daa-97ff-72f132be92ff\">\n",
              "  <button class=\"colab-df-quickchart\" onclick=\"quickchart('df-f1e7541f-5845-4daa-97ff-72f132be92ff')\"\n",
              "            title=\"Suggest charts\"\n",
              "            style=\"display:none;\">\n",
              "\n",
              "<svg xmlns=\"http://www.w3.org/2000/svg\" height=\"24px\"viewBox=\"0 0 24 24\"\n",
              "     width=\"24px\">\n",
              "    <g>\n",
              "        <path d=\"M19 3H5c-1.1 0-2 .9-2 2v14c0 1.1.9 2 2 2h14c1.1 0 2-.9 2-2V5c0-1.1-.9-2-2-2zM9 17H7v-7h2v7zm4 0h-2V7h2v10zm4 0h-2v-4h2v4z\"/>\n",
              "    </g>\n",
              "</svg>\n",
              "  </button>\n",
              "\n",
              "<style>\n",
              "  .colab-df-quickchart {\n",
              "      --bg-color: #E8F0FE;\n",
              "      --fill-color: #1967D2;\n",
              "      --hover-bg-color: #E2EBFA;\n",
              "      --hover-fill-color: #174EA6;\n",
              "      --disabled-fill-color: #AAA;\n",
              "      --disabled-bg-color: #DDD;\n",
              "  }\n",
              "\n",
              "  [theme=dark] .colab-df-quickchart {\n",
              "      --bg-color: #3B4455;\n",
              "      --fill-color: #D2E3FC;\n",
              "      --hover-bg-color: #434B5C;\n",
              "      --hover-fill-color: #FFFFFF;\n",
              "      --disabled-bg-color: #3B4455;\n",
              "      --disabled-fill-color: #666;\n",
              "  }\n",
              "\n",
              "  .colab-df-quickchart {\n",
              "    background-color: var(--bg-color);\n",
              "    border: none;\n",
              "    border-radius: 50%;\n",
              "    cursor: pointer;\n",
              "    display: none;\n",
              "    fill: var(--fill-color);\n",
              "    height: 32px;\n",
              "    padding: 0;\n",
              "    width: 32px;\n",
              "  }\n",
              "\n",
              "  .colab-df-quickchart:hover {\n",
              "    background-color: var(--hover-bg-color);\n",
              "    box-shadow: 0 1px 2px rgba(60, 64, 67, 0.3), 0 1px 3px 1px rgba(60, 64, 67, 0.15);\n",
              "    fill: var(--button-hover-fill-color);\n",
              "  }\n",
              "\n",
              "  .colab-df-quickchart-complete:disabled,\n",
              "  .colab-df-quickchart-complete:disabled:hover {\n",
              "    background-color: var(--disabled-bg-color);\n",
              "    fill: var(--disabled-fill-color);\n",
              "    box-shadow: none;\n",
              "  }\n",
              "\n",
              "  .colab-df-spinner {\n",
              "    border: 2px solid var(--fill-color);\n",
              "    border-color: transparent;\n",
              "    border-bottom-color: var(--fill-color);\n",
              "    animation:\n",
              "      spin 1s steps(1) infinite;\n",
              "  }\n",
              "\n",
              "  @keyframes spin {\n",
              "    0% {\n",
              "      border-color: transparent;\n",
              "      border-bottom-color: var(--fill-color);\n",
              "      border-left-color: var(--fill-color);\n",
              "    }\n",
              "    20% {\n",
              "      border-color: transparent;\n",
              "      border-left-color: var(--fill-color);\n",
              "      border-top-color: var(--fill-color);\n",
              "    }\n",
              "    30% {\n",
              "      border-color: transparent;\n",
              "      border-left-color: var(--fill-color);\n",
              "      border-top-color: var(--fill-color);\n",
              "      border-right-color: var(--fill-color);\n",
              "    }\n",
              "    40% {\n",
              "      border-color: transparent;\n",
              "      border-right-color: var(--fill-color);\n",
              "      border-top-color: var(--fill-color);\n",
              "    }\n",
              "    60% {\n",
              "      border-color: transparent;\n",
              "      border-right-color: var(--fill-color);\n",
              "    }\n",
              "    80% {\n",
              "      border-color: transparent;\n",
              "      border-right-color: var(--fill-color);\n",
              "      border-bottom-color: var(--fill-color);\n",
              "    }\n",
              "    90% {\n",
              "      border-color: transparent;\n",
              "      border-bottom-color: var(--fill-color);\n",
              "    }\n",
              "  }\n",
              "</style>\n",
              "\n",
              "  <script>\n",
              "    async function quickchart(key) {\n",
              "      const quickchartButtonEl =\n",
              "        document.querySelector('#' + key + ' button');\n",
              "      quickchartButtonEl.disabled = true;  // To prevent multiple clicks.\n",
              "      quickchartButtonEl.classList.add('colab-df-spinner');\n",
              "      try {\n",
              "        const charts = await google.colab.kernel.invokeFunction(\n",
              "            'suggestCharts', [key], {});\n",
              "      } catch (error) {\n",
              "        console.error('Error during call to suggestCharts:', error);\n",
              "      }\n",
              "      quickchartButtonEl.classList.remove('colab-df-spinner');\n",
              "      quickchartButtonEl.classList.add('colab-df-quickchart-complete');\n",
              "    }\n",
              "    (() => {\n",
              "      let quickchartButtonEl =\n",
              "        document.querySelector('#df-f1e7541f-5845-4daa-97ff-72f132be92ff button');\n",
              "      quickchartButtonEl.style.display =\n",
              "        google.colab.kernel.accessAllowed ? 'block' : 'none';\n",
              "    })();\n",
              "  </script>\n",
              "</div>\n",
              "\n",
              "  <div id=\"id_5ae76b14-5aaa-4e54-9931-5e7ba4e4c7ad\">\n",
              "    <style>\n",
              "      .colab-df-generate {\n",
              "        background-color: #E8F0FE;\n",
              "        border: none;\n",
              "        border-radius: 50%;\n",
              "        cursor: pointer;\n",
              "        display: none;\n",
              "        fill: #1967D2;\n",
              "        height: 32px;\n",
              "        padding: 0 0 0 0;\n",
              "        width: 32px;\n",
              "      }\n",
              "\n",
              "      .colab-df-generate:hover {\n",
              "        background-color: #E2EBFA;\n",
              "        box-shadow: 0px 1px 2px rgba(60, 64, 67, 0.3), 0px 1px 3px 1px rgba(60, 64, 67, 0.15);\n",
              "        fill: #174EA6;\n",
              "      }\n",
              "\n",
              "      [theme=dark] .colab-df-generate {\n",
              "        background-color: #3B4455;\n",
              "        fill: #D2E3FC;\n",
              "      }\n",
              "\n",
              "      [theme=dark] .colab-df-generate:hover {\n",
              "        background-color: #434B5C;\n",
              "        box-shadow: 0px 1px 3px 1px rgba(0, 0, 0, 0.15);\n",
              "        filter: drop-shadow(0px 1px 2px rgba(0, 0, 0, 0.3));\n",
              "        fill: #FFFFFF;\n",
              "      }\n",
              "    </style>\n",
              "    <button class=\"colab-df-generate\" onclick=\"generateWithVariable('DMart')\"\n",
              "            title=\"Generate code using this dataframe.\"\n",
              "            style=\"display:none;\">\n",
              "\n",
              "  <svg xmlns=\"http://www.w3.org/2000/svg\" height=\"24px\"viewBox=\"0 0 24 24\"\n",
              "       width=\"24px\">\n",
              "    <path d=\"M7,19H8.4L18.45,9,17,7.55,7,17.6ZM5,21V16.75L18.45,3.32a2,2,0,0,1,2.83,0l1.4,1.43a1.91,1.91,0,0,1,.58,1.4,1.91,1.91,0,0,1-.58,1.4L9.25,21ZM18.45,9,17,7.55Zm-12,3A5.31,5.31,0,0,0,4.9,8.1,5.31,5.31,0,0,0,1,6.5,5.31,5.31,0,0,0,4.9,4.9,5.31,5.31,0,0,0,6.5,1,5.31,5.31,0,0,0,8.1,4.9,5.31,5.31,0,0,0,12,6.5,5.46,5.46,0,0,0,6.5,12Z\"/>\n",
              "  </svg>\n",
              "    </button>\n",
              "    <script>\n",
              "      (() => {\n",
              "      const buttonEl =\n",
              "        document.querySelector('#id_5ae76b14-5aaa-4e54-9931-5e7ba4e4c7ad button.colab-df-generate');\n",
              "      buttonEl.style.display =\n",
              "        google.colab.kernel.accessAllowed ? 'block' : 'none';\n",
              "\n",
              "      buttonEl.onclick = () => {\n",
              "        google.colab.notebook.generateWithVariable('DMart');\n",
              "      }\n",
              "      })();\n",
              "    </script>\n",
              "  </div>\n",
              "\n",
              "    </div>\n",
              "  </div>\n"
            ],
            "application/vnd.google.colaboratory.intrinsic+json": {
              "type": "dataframe",
              "variable_name": "DMart",
              "summary": "{\n  \"name\": \"DMart\",\n  \"rows\": 5189,\n  \"fields\": [\n    {\n      \"column\": \"Name\",\n      \"properties\": {\n        \"dtype\": \"string\",\n        \"num_unique_values\": 4360,\n        \"samples\": [\n          \"Ranguni Wal\",\n          \"Freshezza Frozen Green Peas\",\n          \"Maybelline New York Color Highline Wine Lip Balm\"\n        ],\n        \"semantic_type\": \"\",\n        \"description\": \"\"\n      }\n    },\n    {\n      \"column\": \"Brand\",\n      \"properties\": {\n        \"dtype\": \"category\",\n        \"num_unique_values\": 822,\n        \"samples\": [\n          \"Panasonic\",\n          \"Boost\",\n          \"Mother Dairy\"\n        ],\n        \"semantic_type\": \"\",\n        \"description\": \"\"\n      }\n    },\n    {\n      \"column\": \"Price\",\n      \"properties\": {\n        \"dtype\": \"number\",\n        \"std\": 601.0340917037674,\n        \"min\": 0.0,\n        \"max\": 10990.0,\n        \"num_unique_values\": 636,\n        \"samples\": [\n          203.0,\n          549.5,\n          145.0\n        ],\n        \"semantic_type\": \"\",\n        \"description\": \"\"\n      }\n    },\n    {\n      \"column\": \"DiscountedPrice\",\n      \"properties\": {\n        \"dtype\": \"number\",\n        \"std\": 387.1987164510737,\n        \"min\": 0.0,\n        \"max\": 7999.0,\n        \"num_unique_values\": 613,\n        \"samples\": [\n          494.0,\n          97.0,\n          106.0\n        ],\n        \"semantic_type\": \"\",\n        \"description\": \"\"\n      }\n    },\n    {\n      \"column\": \"Category\",\n      \"properties\": {\n        \"dtype\": \"category\",\n        \"num_unique_values\": 29,\n        \"samples\": [\n          \"Raincoat\",\n          \"Zebronics\",\n          \"Tableware\"\n        ],\n        \"semantic_type\": \"\",\n        \"description\": \"\"\n      }\n    },\n    {\n      \"column\": \"SubCategory\",\n      \"properties\": {\n        \"dtype\": \"category\",\n        \"num_unique_values\": 86,\n        \"samples\": [\n          \"Kitchen Appliances\",\n          \"Grocery/Dry Fruits\",\n          \"Shaving Needs\"\n        ],\n        \"semantic_type\": \"\",\n        \"description\": \"\"\n      }\n    },\n    {\n      \"column\": \"Quantity\",\n      \"properties\": {\n        \"dtype\": \"category\",\n        \"num_unique_values\": 632,\n        \"samples\": [\n          \"Orange\",\n          \"11 gm\",\n          \"28 U\"\n        ],\n        \"semantic_type\": \"\",\n        \"description\": \"\"\n      }\n    },\n    {\n      \"column\": \"Description\",\n      \"properties\": {\n        \"dtype\": \"string\",\n        \"num_unique_values\": 3616,\n        \"samples\": [\n          \"Benefits- The Ultime Pro Kajal delivers a super-creamy application and is easy to apply.- The waterproof Faces Canada kajal provides long-lasting coverage only in one swipe.- The Faces Canada Ultime Pro kajal comes with a sharpener for better application.- The unique formulation of the Ultime kajal gives an intense and pigmented black colour.- The Faces Canada Ultime Pro kajal is cruelty-free.How to Use- Start by applying the kajal to your lower waterline- Use short strokesAbout the BrandWith a Canadian heritage spanning over 40 years, Faces Canada offers an exclusive line of high-quality makeup and skincare products. For them, all beauty is about owning your individuality and wearing your looks with confidence. That&rsquo;s why their products are crafted to suit every ethnicity, skin type and tone, complexion and texture. Their products are also cruelty-free and hypoallergenic. Quality is one of their core values, which is why they strictly disapprove of animal testing, conform to the most stringent requirements and always use safe ingredients.Today, they&rsquo;re a globally acclaimed brand, available at attractive price points, offering a comprehensive range of products that can capture any look or style, from casual chic to go-getter glamorous and everything in between.\",\n          \"Key Features- 20g protein.- 10g fibre.- Improved protein absorption with probiotics.- No added sugar.- 100% natural with no preservatives.How to UseHave it for your pre or post-workout protein intake, or even as a healthy protein snack between meals.Benefits - Purest form of protein.- Probiotics for better absorption of protein.- Good for the gut.- High fibre keeps you full for long.Any Other Must-Know Information- 100% whey protein blend.- No soy.- Rich in Omega 3.- Antioxidant-rich ingredients.- Healthy fats.- Low sodium.- Gluten-free.Disclaimer If AnyAllergen Information:Products are processed on machinery in a plant that also processes peanuts, tree nuts, sesame, soy and dairy products.Frequently Asked Questions- Is there any artificial sweetener added? No.- How much protein per bar? 20g protein per bar.- Is the protein used plant-based?No, we use a 100% whey protein blend.Care Instructions- Store in a cool, hygienic, and dry place. - Store open bars in a refrigeratorAbout the BrandYogabar was started by 2 Sisters - Suhasini Aninidita Sampath - with a mission to change India's eating habits. Yogabar is a nutrition-led food company offering a range of healthy snack options such as Protein Bars, Muesli, Peanut Butters, and Gluten-Free Oats which are all-natural and have no artificial preservatives.*Actual packaging may vary from the Image Note : Product in stock will be delivered basis availability\",\n          \"OverviewInsight Cosmetics Pro Concealer Palette features a wheel of 6 shades that can be used to camouflage imperfections, conceal dark circles and contour. Its soft creamy texture blends in effortlessly to give you a smooth, flawless finish. Apart from that it also helps cover discolouration, redness and instantly brightens up the skin.Key Features- 6 pan makeup palette that lets you conceal, correct and contour for that flawless look - Soft, creamy formula blends smoothly without making it look patchy or unnatural - Covers blemishes, dark spots, and any imperfections with a natural-looking finish - Use the lighter shades to conceal or highlight and darker shades to contour and sculpt - This product is waterproof, crease-resistantHow to Use- Apply it to the desired places with the help of a concealer brush or use your fingertips to blend on all areas of application.- Give it a few minutes for the product to completely dry.About the BrandInsight is a revolutionary makeup brand from Mayuri Kumkum. The brand is known for its affordable, professional-quality makeup products, and offers a wide array of colour cosmetics for women who crave for sophisticated innovations in makeup and beauty.\"\n        ],\n        \"semantic_type\": \"\",\n        \"description\": \"\"\n      }\n    },\n    {\n      \"column\": \"BreadCrumbs\",\n      \"properties\": {\n        \"dtype\": \"category\",\n        \"num_unique_values\": 97,\n        \"samples\": [\n          \"Personal Care > Skin Care\",\n          \"Home & Kitchen > Freshener & Repellents\",\n          \"Smartwatches\"\n        ],\n        \"semantic_type\": \"\",\n        \"description\": \"\"\n      }\n    }\n  ]\n}"
            }
          },
          "metadata": {},
          "execution_count": 30
        }
      ]
    },
    {
      "cell_type": "code",
      "source": [
        "#Shape of Data\n",
        "#Conditions, Loops, Functions, Modules, File Handling ,Exception Handling\n",
        "#Object Oriented Programming ,Multithreading, Iterator, Generator ,Decorator\n",
        "\n",
        "DMart.head()"
      ],
      "metadata": {
        "colab": {
          "base_uri": "https://localhost:8080/",
          "height": 293
        },
        "collapsed": true,
        "id": "UvjTTNTOP3Sp",
        "outputId": "52799123-884f-4d29-99ff-0aaa6bfcdb47"
      },
      "execution_count": 31,
      "outputs": [
        {
          "output_type": "execute_result",
          "data": {
            "text/plain": [
              "                                Name   Brand   Price  DiscountedPrice  \\\n",
              "0             Premia Badam (Almonds)  Premia   451.0            329.0   \n",
              "1             Premia Badam (Almonds)  Premia   109.0             85.0   \n",
              "2             Premia Badam (Almonds)  Premia   202.0            175.0   \n",
              "3  Nutraj California Almonds (Badam)  Nutraj   599.0            349.0   \n",
              "4  Nutraj California Almonds (Badam)  Nutraj  1549.0            659.0   \n",
              "\n",
              "  Category         SubCategory Quantity Description  \\\n",
              "0  Grocery  Grocery/Dry Fruits   500 gm       India   \n",
              "1  Grocery  Grocery/Dry Fruits   100 gm       India   \n",
              "2  Grocery  Grocery/Dry Fruits   200 gm       India   \n",
              "3  Grocery          Dry Fruits   500 gm         USA   \n",
              "4  Grocery          Dry Fruits     1 kg         USA   \n",
              "\n",
              "                    BreadCrumbs  \n",
              "0  Grocery > Grocery/Dry Fruits  \n",
              "1  Grocery > Grocery/Dry Fruits  \n",
              "2  Grocery > Grocery/Dry Fruits  \n",
              "3          Grocery > Dry Fruits  \n",
              "4          Grocery > Dry Fruits  "
            ],
            "text/html": [
              "\n",
              "  <div id=\"df-afaad486-db97-4b68-965a-6409add9586f\" class=\"colab-df-container\">\n",
              "    <div>\n",
              "<style scoped>\n",
              "    .dataframe tbody tr th:only-of-type {\n",
              "        vertical-align: middle;\n",
              "    }\n",
              "\n",
              "    .dataframe tbody tr th {\n",
              "        vertical-align: top;\n",
              "    }\n",
              "\n",
              "    .dataframe thead th {\n",
              "        text-align: right;\n",
              "    }\n",
              "</style>\n",
              "<table border=\"1\" class=\"dataframe\">\n",
              "  <thead>\n",
              "    <tr style=\"text-align: right;\">\n",
              "      <th></th>\n",
              "      <th>Name</th>\n",
              "      <th>Brand</th>\n",
              "      <th>Price</th>\n",
              "      <th>DiscountedPrice</th>\n",
              "      <th>Category</th>\n",
              "      <th>SubCategory</th>\n",
              "      <th>Quantity</th>\n",
              "      <th>Description</th>\n",
              "      <th>BreadCrumbs</th>\n",
              "    </tr>\n",
              "  </thead>\n",
              "  <tbody>\n",
              "    <tr>\n",
              "      <th>0</th>\n",
              "      <td>Premia Badam (Almonds)</td>\n",
              "      <td>Premia</td>\n",
              "      <td>451.0</td>\n",
              "      <td>329.0</td>\n",
              "      <td>Grocery</td>\n",
              "      <td>Grocery/Dry Fruits</td>\n",
              "      <td>500 gm</td>\n",
              "      <td>India</td>\n",
              "      <td>Grocery &gt; Grocery/Dry Fruits</td>\n",
              "    </tr>\n",
              "    <tr>\n",
              "      <th>1</th>\n",
              "      <td>Premia Badam (Almonds)</td>\n",
              "      <td>Premia</td>\n",
              "      <td>109.0</td>\n",
              "      <td>85.0</td>\n",
              "      <td>Grocery</td>\n",
              "      <td>Grocery/Dry Fruits</td>\n",
              "      <td>100 gm</td>\n",
              "      <td>India</td>\n",
              "      <td>Grocery &gt; Grocery/Dry Fruits</td>\n",
              "    </tr>\n",
              "    <tr>\n",
              "      <th>2</th>\n",
              "      <td>Premia Badam (Almonds)</td>\n",
              "      <td>Premia</td>\n",
              "      <td>202.0</td>\n",
              "      <td>175.0</td>\n",
              "      <td>Grocery</td>\n",
              "      <td>Grocery/Dry Fruits</td>\n",
              "      <td>200 gm</td>\n",
              "      <td>India</td>\n",
              "      <td>Grocery &gt; Grocery/Dry Fruits</td>\n",
              "    </tr>\n",
              "    <tr>\n",
              "      <th>3</th>\n",
              "      <td>Nutraj California Almonds (Badam)</td>\n",
              "      <td>Nutraj</td>\n",
              "      <td>599.0</td>\n",
              "      <td>349.0</td>\n",
              "      <td>Grocery</td>\n",
              "      <td>Dry Fruits</td>\n",
              "      <td>500 gm</td>\n",
              "      <td>USA</td>\n",
              "      <td>Grocery &gt; Dry Fruits</td>\n",
              "    </tr>\n",
              "    <tr>\n",
              "      <th>4</th>\n",
              "      <td>Nutraj California Almonds (Badam)</td>\n",
              "      <td>Nutraj</td>\n",
              "      <td>1549.0</td>\n",
              "      <td>659.0</td>\n",
              "      <td>Grocery</td>\n",
              "      <td>Dry Fruits</td>\n",
              "      <td>1 kg</td>\n",
              "      <td>USA</td>\n",
              "      <td>Grocery &gt; Dry Fruits</td>\n",
              "    </tr>\n",
              "  </tbody>\n",
              "</table>\n",
              "</div>\n",
              "    <div class=\"colab-df-buttons\">\n",
              "\n",
              "  <div class=\"colab-df-container\">\n",
              "    <button class=\"colab-df-convert\" onclick=\"convertToInteractive('df-afaad486-db97-4b68-965a-6409add9586f')\"\n",
              "            title=\"Convert this dataframe to an interactive table.\"\n",
              "            style=\"display:none;\">\n",
              "\n",
              "  <svg xmlns=\"http://www.w3.org/2000/svg\" height=\"24px\" viewBox=\"0 -960 960 960\">\n",
              "    <path d=\"M120-120v-720h720v720H120Zm60-500h600v-160H180v160Zm220 220h160v-160H400v160Zm0 220h160v-160H400v160ZM180-400h160v-160H180v160Zm440 0h160v-160H620v160ZM180-180h160v-160H180v160Zm440 0h160v-160H620v160Z\"/>\n",
              "  </svg>\n",
              "    </button>\n",
              "\n",
              "  <style>\n",
              "    .colab-df-container {\n",
              "      display:flex;\n",
              "      gap: 12px;\n",
              "    }\n",
              "\n",
              "    .colab-df-convert {\n",
              "      background-color: #E8F0FE;\n",
              "      border: none;\n",
              "      border-radius: 50%;\n",
              "      cursor: pointer;\n",
              "      display: none;\n",
              "      fill: #1967D2;\n",
              "      height: 32px;\n",
              "      padding: 0 0 0 0;\n",
              "      width: 32px;\n",
              "    }\n",
              "\n",
              "    .colab-df-convert:hover {\n",
              "      background-color: #E2EBFA;\n",
              "      box-shadow: 0px 1px 2px rgba(60, 64, 67, 0.3), 0px 1px 3px 1px rgba(60, 64, 67, 0.15);\n",
              "      fill: #174EA6;\n",
              "    }\n",
              "\n",
              "    .colab-df-buttons div {\n",
              "      margin-bottom: 4px;\n",
              "    }\n",
              "\n",
              "    [theme=dark] .colab-df-convert {\n",
              "      background-color: #3B4455;\n",
              "      fill: #D2E3FC;\n",
              "    }\n",
              "\n",
              "    [theme=dark] .colab-df-convert:hover {\n",
              "      background-color: #434B5C;\n",
              "      box-shadow: 0px 1px 3px 1px rgba(0, 0, 0, 0.15);\n",
              "      filter: drop-shadow(0px 1px 2px rgba(0, 0, 0, 0.3));\n",
              "      fill: #FFFFFF;\n",
              "    }\n",
              "  </style>\n",
              "\n",
              "    <script>\n",
              "      const buttonEl =\n",
              "        document.querySelector('#df-afaad486-db97-4b68-965a-6409add9586f button.colab-df-convert');\n",
              "      buttonEl.style.display =\n",
              "        google.colab.kernel.accessAllowed ? 'block' : 'none';\n",
              "\n",
              "      async function convertToInteractive(key) {\n",
              "        const element = document.querySelector('#df-afaad486-db97-4b68-965a-6409add9586f');\n",
              "        const dataTable =\n",
              "          await google.colab.kernel.invokeFunction('convertToInteractive',\n",
              "                                                    [key], {});\n",
              "        if (!dataTable) return;\n",
              "\n",
              "        const docLinkHtml = 'Like what you see? Visit the ' +\n",
              "          '<a target=\"_blank\" href=https://colab.research.google.com/notebooks/data_table.ipynb>data table notebook</a>'\n",
              "          + ' to learn more about interactive tables.';\n",
              "        element.innerHTML = '';\n",
              "        dataTable['output_type'] = 'display_data';\n",
              "        await google.colab.output.renderOutput(dataTable, element);\n",
              "        const docLink = document.createElement('div');\n",
              "        docLink.innerHTML = docLinkHtml;\n",
              "        element.appendChild(docLink);\n",
              "      }\n",
              "    </script>\n",
              "  </div>\n",
              "\n",
              "\n",
              "<div id=\"df-2f961f6f-73f7-42ef-a3e9-33960fa413a2\">\n",
              "  <button class=\"colab-df-quickchart\" onclick=\"quickchart('df-2f961f6f-73f7-42ef-a3e9-33960fa413a2')\"\n",
              "            title=\"Suggest charts\"\n",
              "            style=\"display:none;\">\n",
              "\n",
              "<svg xmlns=\"http://www.w3.org/2000/svg\" height=\"24px\"viewBox=\"0 0 24 24\"\n",
              "     width=\"24px\">\n",
              "    <g>\n",
              "        <path d=\"M19 3H5c-1.1 0-2 .9-2 2v14c0 1.1.9 2 2 2h14c1.1 0 2-.9 2-2V5c0-1.1-.9-2-2-2zM9 17H7v-7h2v7zm4 0h-2V7h2v10zm4 0h-2v-4h2v4z\"/>\n",
              "    </g>\n",
              "</svg>\n",
              "  </button>\n",
              "\n",
              "<style>\n",
              "  .colab-df-quickchart {\n",
              "      --bg-color: #E8F0FE;\n",
              "      --fill-color: #1967D2;\n",
              "      --hover-bg-color: #E2EBFA;\n",
              "      --hover-fill-color: #174EA6;\n",
              "      --disabled-fill-color: #AAA;\n",
              "      --disabled-bg-color: #DDD;\n",
              "  }\n",
              "\n",
              "  [theme=dark] .colab-df-quickchart {\n",
              "      --bg-color: #3B4455;\n",
              "      --fill-color: #D2E3FC;\n",
              "      --hover-bg-color: #434B5C;\n",
              "      --hover-fill-color: #FFFFFF;\n",
              "      --disabled-bg-color: #3B4455;\n",
              "      --disabled-fill-color: #666;\n",
              "  }\n",
              "\n",
              "  .colab-df-quickchart {\n",
              "    background-color: var(--bg-color);\n",
              "    border: none;\n",
              "    border-radius: 50%;\n",
              "    cursor: pointer;\n",
              "    display: none;\n",
              "    fill: var(--fill-color);\n",
              "    height: 32px;\n",
              "    padding: 0;\n",
              "    width: 32px;\n",
              "  }\n",
              "\n",
              "  .colab-df-quickchart:hover {\n",
              "    background-color: var(--hover-bg-color);\n",
              "    box-shadow: 0 1px 2px rgba(60, 64, 67, 0.3), 0 1px 3px 1px rgba(60, 64, 67, 0.15);\n",
              "    fill: var(--button-hover-fill-color);\n",
              "  }\n",
              "\n",
              "  .colab-df-quickchart-complete:disabled,\n",
              "  .colab-df-quickchart-complete:disabled:hover {\n",
              "    background-color: var(--disabled-bg-color);\n",
              "    fill: var(--disabled-fill-color);\n",
              "    box-shadow: none;\n",
              "  }\n",
              "\n",
              "  .colab-df-spinner {\n",
              "    border: 2px solid var(--fill-color);\n",
              "    border-color: transparent;\n",
              "    border-bottom-color: var(--fill-color);\n",
              "    animation:\n",
              "      spin 1s steps(1) infinite;\n",
              "  }\n",
              "\n",
              "  @keyframes spin {\n",
              "    0% {\n",
              "      border-color: transparent;\n",
              "      border-bottom-color: var(--fill-color);\n",
              "      border-left-color: var(--fill-color);\n",
              "    }\n",
              "    20% {\n",
              "      border-color: transparent;\n",
              "      border-left-color: var(--fill-color);\n",
              "      border-top-color: var(--fill-color);\n",
              "    }\n",
              "    30% {\n",
              "      border-color: transparent;\n",
              "      border-left-color: var(--fill-color);\n",
              "      border-top-color: var(--fill-color);\n",
              "      border-right-color: var(--fill-color);\n",
              "    }\n",
              "    40% {\n",
              "      border-color: transparent;\n",
              "      border-right-color: var(--fill-color);\n",
              "      border-top-color: var(--fill-color);\n",
              "    }\n",
              "    60% {\n",
              "      border-color: transparent;\n",
              "      border-right-color: var(--fill-color);\n",
              "    }\n",
              "    80% {\n",
              "      border-color: transparent;\n",
              "      border-right-color: var(--fill-color);\n",
              "      border-bottom-color: var(--fill-color);\n",
              "    }\n",
              "    90% {\n",
              "      border-color: transparent;\n",
              "      border-bottom-color: var(--fill-color);\n",
              "    }\n",
              "  }\n",
              "</style>\n",
              "\n",
              "  <script>\n",
              "    async function quickchart(key) {\n",
              "      const quickchartButtonEl =\n",
              "        document.querySelector('#' + key + ' button');\n",
              "      quickchartButtonEl.disabled = true;  // To prevent multiple clicks.\n",
              "      quickchartButtonEl.classList.add('colab-df-spinner');\n",
              "      try {\n",
              "        const charts = await google.colab.kernel.invokeFunction(\n",
              "            'suggestCharts', [key], {});\n",
              "      } catch (error) {\n",
              "        console.error('Error during call to suggestCharts:', error);\n",
              "      }\n",
              "      quickchartButtonEl.classList.remove('colab-df-spinner');\n",
              "      quickchartButtonEl.classList.add('colab-df-quickchart-complete');\n",
              "    }\n",
              "    (() => {\n",
              "      let quickchartButtonEl =\n",
              "        document.querySelector('#df-2f961f6f-73f7-42ef-a3e9-33960fa413a2 button');\n",
              "      quickchartButtonEl.style.display =\n",
              "        google.colab.kernel.accessAllowed ? 'block' : 'none';\n",
              "    })();\n",
              "  </script>\n",
              "</div>\n",
              "\n",
              "    </div>\n",
              "  </div>\n"
            ],
            "application/vnd.google.colaboratory.intrinsic+json": {
              "type": "dataframe",
              "variable_name": "DMart",
              "summary": "{\n  \"name\": \"DMart\",\n  \"rows\": 5189,\n  \"fields\": [\n    {\n      \"column\": \"Name\",\n      \"properties\": {\n        \"dtype\": \"string\",\n        \"num_unique_values\": 4360,\n        \"samples\": [\n          \"Ranguni Wal\",\n          \"Freshezza Frozen Green Peas\",\n          \"Maybelline New York Color Highline Wine Lip Balm\"\n        ],\n        \"semantic_type\": \"\",\n        \"description\": \"\"\n      }\n    },\n    {\n      \"column\": \"Brand\",\n      \"properties\": {\n        \"dtype\": \"category\",\n        \"num_unique_values\": 822,\n        \"samples\": [\n          \"Panasonic\",\n          \"Boost\",\n          \"Mother Dairy\"\n        ],\n        \"semantic_type\": \"\",\n        \"description\": \"\"\n      }\n    },\n    {\n      \"column\": \"Price\",\n      \"properties\": {\n        \"dtype\": \"number\",\n        \"std\": 601.0340917037674,\n        \"min\": 0.0,\n        \"max\": 10990.0,\n        \"num_unique_values\": 636,\n        \"samples\": [\n          203.0,\n          549.5,\n          145.0\n        ],\n        \"semantic_type\": \"\",\n        \"description\": \"\"\n      }\n    },\n    {\n      \"column\": \"DiscountedPrice\",\n      \"properties\": {\n        \"dtype\": \"number\",\n        \"std\": 387.1987164510737,\n        \"min\": 0.0,\n        \"max\": 7999.0,\n        \"num_unique_values\": 613,\n        \"samples\": [\n          494.0,\n          97.0,\n          106.0\n        ],\n        \"semantic_type\": \"\",\n        \"description\": \"\"\n      }\n    },\n    {\n      \"column\": \"Category\",\n      \"properties\": {\n        \"dtype\": \"category\",\n        \"num_unique_values\": 29,\n        \"samples\": [\n          \"Raincoat\",\n          \"Zebronics\",\n          \"Tableware\"\n        ],\n        \"semantic_type\": \"\",\n        \"description\": \"\"\n      }\n    },\n    {\n      \"column\": \"SubCategory\",\n      \"properties\": {\n        \"dtype\": \"category\",\n        \"num_unique_values\": 86,\n        \"samples\": [\n          \"Kitchen Appliances\",\n          \"Grocery/Dry Fruits\",\n          \"Shaving Needs\"\n        ],\n        \"semantic_type\": \"\",\n        \"description\": \"\"\n      }\n    },\n    {\n      \"column\": \"Quantity\",\n      \"properties\": {\n        \"dtype\": \"category\",\n        \"num_unique_values\": 632,\n        \"samples\": [\n          \"Orange\",\n          \"11 gm\",\n          \"28 U\"\n        ],\n        \"semantic_type\": \"\",\n        \"description\": \"\"\n      }\n    },\n    {\n      \"column\": \"Description\",\n      \"properties\": {\n        \"dtype\": \"string\",\n        \"num_unique_values\": 3616,\n        \"samples\": [\n          \"Benefits- The Ultime Pro Kajal delivers a super-creamy application and is easy to apply.- The waterproof Faces Canada kajal provides long-lasting coverage only in one swipe.- The Faces Canada Ultime Pro kajal comes with a sharpener for better application.- The unique formulation of the Ultime kajal gives an intense and pigmented black colour.- The Faces Canada Ultime Pro kajal is cruelty-free.How to Use- Start by applying the kajal to your lower waterline- Use short strokesAbout the BrandWith a Canadian heritage spanning over 40 years, Faces Canada offers an exclusive line of high-quality makeup and skincare products. For them, all beauty is about owning your individuality and wearing your looks with confidence. That&rsquo;s why their products are crafted to suit every ethnicity, skin type and tone, complexion and texture. Their products are also cruelty-free and hypoallergenic. Quality is one of their core values, which is why they strictly disapprove of animal testing, conform to the most stringent requirements and always use safe ingredients.Today, they&rsquo;re a globally acclaimed brand, available at attractive price points, offering a comprehensive range of products that can capture any look or style, from casual chic to go-getter glamorous and everything in between.\",\n          \"Key Features- 20g protein.- 10g fibre.- Improved protein absorption with probiotics.- No added sugar.- 100% natural with no preservatives.How to UseHave it for your pre or post-workout protein intake, or even as a healthy protein snack between meals.Benefits - Purest form of protein.- Probiotics for better absorption of protein.- Good for the gut.- High fibre keeps you full for long.Any Other Must-Know Information- 100% whey protein blend.- No soy.- Rich in Omega 3.- Antioxidant-rich ingredients.- Healthy fats.- Low sodium.- Gluten-free.Disclaimer If AnyAllergen Information:Products are processed on machinery in a plant that also processes peanuts, tree nuts, sesame, soy and dairy products.Frequently Asked Questions- Is there any artificial sweetener added? No.- How much protein per bar? 20g protein per bar.- Is the protein used plant-based?No, we use a 100% whey protein blend.Care Instructions- Store in a cool, hygienic, and dry place. - Store open bars in a refrigeratorAbout the BrandYogabar was started by 2 Sisters - Suhasini Aninidita Sampath - with a mission to change India's eating habits. Yogabar is a nutrition-led food company offering a range of healthy snack options such as Protein Bars, Muesli, Peanut Butters, and Gluten-Free Oats which are all-natural and have no artificial preservatives.*Actual packaging may vary from the Image Note : Product in stock will be delivered basis availability\",\n          \"OverviewInsight Cosmetics Pro Concealer Palette features a wheel of 6 shades that can be used to camouflage imperfections, conceal dark circles and contour. Its soft creamy texture blends in effortlessly to give you a smooth, flawless finish. Apart from that it also helps cover discolouration, redness and instantly brightens up the skin.Key Features- 6 pan makeup palette that lets you conceal, correct and contour for that flawless look - Soft, creamy formula blends smoothly without making it look patchy or unnatural - Covers blemishes, dark spots, and any imperfections with a natural-looking finish - Use the lighter shades to conceal or highlight and darker shades to contour and sculpt - This product is waterproof, crease-resistantHow to Use- Apply it to the desired places with the help of a concealer brush or use your fingertips to blend on all areas of application.- Give it a few minutes for the product to completely dry.About the BrandInsight is a revolutionary makeup brand from Mayuri Kumkum. The brand is known for its affordable, professional-quality makeup products, and offers a wide array of colour cosmetics for women who crave for sophisticated innovations in makeup and beauty.\"\n        ],\n        \"semantic_type\": \"\",\n        \"description\": \"\"\n      }\n    },\n    {\n      \"column\": \"BreadCrumbs\",\n      \"properties\": {\n        \"dtype\": \"category\",\n        \"num_unique_values\": 97,\n        \"samples\": [\n          \"Personal Care > Skin Care\",\n          \"Home & Kitchen > Freshener & Repellents\",\n          \"Smartwatches\"\n        ],\n        \"semantic_type\": \"\",\n        \"description\": \"\"\n      }\n    }\n  ]\n}"
            }
          },
          "metadata": {},
          "execution_count": 31
        }
      ]
    },
    {
      "cell_type": "code",
      "source": [
        "# Datatype of each column\n",
        "DMart.info()"
      ],
      "metadata": {
        "colab": {
          "base_uri": "https://localhost:8080/"
        },
        "collapsed": true,
        "id": "lNcNdVrxQCqT",
        "outputId": "030c74df-dcc1-498b-e152-abb2e9fb1394"
      },
      "execution_count": 77,
      "outputs": [
        {
          "output_type": "stream",
          "name": "stdout",
          "text": [
            "<class 'pandas.core.frame.DataFrame'>\n",
            "RangeIndex: 5 entries, 0 to 4\n",
            "Data columns (total 9 columns):\n",
            " #   Column           Non-Null Count  Dtype  \n",
            "---  ------           --------------  -----  \n",
            " 0   Name             5 non-null      object \n",
            " 1   Brand            5 non-null      object \n",
            " 2   Price            5 non-null      float64\n",
            " 3   DiscountedPrice  5 non-null      float64\n",
            " 4   Category         5 non-null      object \n",
            " 5   SubCategory      5 non-null      object \n",
            " 6   Quantity         5 non-null      object \n",
            " 7   Description      5 non-null      object \n",
            " 8   BreadCrumbs      5 non-null      object \n",
            "dtypes: float64(2), object(7)\n",
            "memory usage: 488.0+ bytes\n"
          ]
        }
      ]
    },
    {
      "cell_type": "code",
      "source": [
        "DMart['Quantity'].unique()"
      ],
      "metadata": {
        "colab": {
          "base_uri": "https://localhost:8080/"
        },
        "collapsed": true,
        "id": "3o5hAS_zRpsL",
        "outputId": "faea1c5c-a4cd-4483-f475-5fa309624d01"
      },
      "execution_count": 76,
      "outputs": [
        {
          "output_type": "execute_result",
          "data": {
            "text/plain": [
              "array(['500 gm', '100 gm', '200 gm', '1 kg'], dtype=object)"
            ]
          },
          "metadata": {},
          "execution_count": 76
        }
      ]
    },
    {
      "cell_type": "code",
      "source": [
        "#Checking Duplicates\n",
        "DMart.duplicated().sum()"
      ],
      "metadata": {
        "colab": {
          "base_uri": "https://localhost:8080/"
        },
        "id": "fGEjmhJlSDuE",
        "outputId": "710fa837-eeab-4f14-fc47-0541b6f29807"
      },
      "execution_count": 75,
      "outputs": [
        {
          "output_type": "execute_result",
          "data": {
            "text/plain": [
              "0"
            ]
          },
          "metadata": {},
          "execution_count": 75
        }
      ]
    },
    {
      "cell_type": "code",
      "source": [
        "#Do we have null values?\n",
        "DMart.isnull().sum()"
      ],
      "metadata": {
        "id": "_jtaqFXrSJqD",
        "colab": {
          "base_uri": "https://localhost:8080/"
        },
        "outputId": "570f88c3-5044-4204-9d05-3155436385eb"
      },
      "execution_count": null,
      "outputs": [
        {
          "output_type": "execute_result",
          "data": {
            "text/plain": [
              "Name                 2\n",
              "Brand              667\n",
              "Price                2\n",
              "DiscountedPrice      2\n",
              "Category             6\n",
              "SubCategory          6\n",
              "Quantity             2\n",
              "Description          4\n",
              "BreadCrumbs          6\n",
              "dtype: int64"
            ]
          },
          "metadata": {},
          "execution_count": 6
        }
      ]
    },
    {
      "cell_type": "code",
      "source": [
        "#data exploration , category wise, data cleaning , duplicate values , outliears, Feature Engineering,data anaytics,"
      ],
      "metadata": {
        "id": "fzxCbP-YQSJM"
      },
      "execution_count": null,
      "outputs": []
    },
    {
      "cell_type": "code",
      "source": [
        "# data exploration\n",
        "# Load the dataset\n",
        "DMart = pd.read_csv('/content/DMart.csv')\n",
        "DMart"
      ],
      "metadata": {
        "collapsed": true,
        "id": "A7ZnWoevjpVT"
      },
      "execution_count": null,
      "outputs": []
    },
    {
      "cell_type": "code",
      "source": [
        "summary_stats = DMart.describe()\n",
        "print(summary_stats)"
      ],
      "metadata": {
        "colab": {
          "base_uri": "https://localhost:8080/"
        },
        "id": "Bi-bYdiZlzix",
        "outputId": "a3b21f78-0d71-4d66-edbc-724007b7577c"
      },
      "execution_count": 32,
      "outputs": [
        {
          "output_type": "stream",
          "name": "stdout",
          "text": [
            "              Price  DiscountedPrice\n",
            "count   5188.000000      5188.000000\n",
            "mean     344.030360       236.669719\n",
            "std      601.034092       387.198716\n",
            "min        0.000000         0.000000\n",
            "25%       85.000000        64.000000\n",
            "50%      175.000000       125.000000\n",
            "75%      345.000000       249.000000\n",
            "max    10990.000000      7999.000000\n"
          ]
        }
      ]
    },
    {
      "cell_type": "code",
      "source": [
        "#Data Cleaning: Handling missing values. Removing duplicates.Standardizing data formats.Correcting inconsistent data entries.\n",
        "\n",
        "DMart = pd.read_csv(\"dmart_data.csv\")\n"
      ],
      "metadata": {
        "id": "qWhjneMul6_C"
      },
      "execution_count": null,
      "outputs": []
    },
    {
      "cell_type": "code",
      "source": [
        "# Display basic information about the dataset\n",
        "print(\"Original dataset:\")\n",
        "print(DMart.head())"
      ],
      "metadata": {
        "colab": {
          "base_uri": "https://localhost:8080/"
        },
        "id": "0UBAd1jqcXmc",
        "outputId": "5892bec2-e804-47a7-a92c-681393b0c4ea"
      },
      "execution_count": null,
      "outputs": [
        {
          "output_type": "stream",
          "name": "stdout",
          "text": [
            "                                Name   Brand Price DiscountedPrice Category  \\\n",
            "0             Premia Badam (Almonds)  Premia   451             329  Grocery   \n",
            "1             Premia Badam (Almonds)  Premia   109              85  Grocery   \n",
            "2             Premia Badam (Almonds)  Premia   202             175  Grocery   \n",
            "3  Nutraj California Almonds (Badam)  Nutraj   599             349  Grocery   \n",
            "4  Nutraj California Almonds (Badam)  Nutraj  1549             659  Grocery   \n",
            "\n",
            "          SubCategory Quantity Description                   BreadCrumbs  \n",
            "0  Grocery/Dry Fruits   500 gm       India  Grocery > Grocery/Dry Fruits  \n",
            "1  Grocery/Dry Fruits   100 gm       India  Grocery > Grocery/Dry Fruits  \n",
            "2  Grocery/Dry Fruits   200 gm       India  Grocery > Grocery/Dry Fruits  \n",
            "3          Dry Fruits   500 gm         USA          Grocery > Dry Fruits  \n",
            "4          Dry Fruits     1 kg         USA          Grocery > Dry Fruits  \n"
          ]
        }
      ]
    },
    {
      "cell_type": "code",
      "source": [
        "# Handling missing values\n",
        "DMart.fillna(value=0, inplace=True)  # Fill missing values with 0\n"
      ],
      "metadata": {
        "id": "flHyXNxScxSS"
      },
      "execution_count": null,
      "outputs": []
    },
    {
      "cell_type": "code",
      "source": [
        "# Removing duplicates\n",
        "DMart.drop_duplicates(inplace=True)\n"
      ],
      "metadata": {
        "id": "vQAhDlAjc9cz"
      },
      "execution_count": null,
      "outputs": []
    },
    {
      "cell_type": "code",
      "source": [
        "#Data Visualization:\n",
        "# Box Plot\n",
        "plt.figure(figsize=(8, 6))\n",
        "sns.boxplot(y='Price', data=DMart)\n",
        "plt.title('Box Plot of Price Data')\n",
        "plt.ylabel('Price')\n",
        "plt.show()"
      ],
      "metadata": {
        "colab": {
          "base_uri": "https://localhost:8080/",
          "height": 526
        },
        "id": "WQ1cHpqMdgws",
        "outputId": "839326f1-03ce-4654-c90e-33e2d2cce718"
      },
      "execution_count": 68,
      "outputs": [
        {
          "output_type": "display_data",
          "data": {
            "text/plain": [
              "<Figure size 800x600 with 1 Axes>"
            ],
            "image/png": "[encoded data removed]"
          },
          "metadata": {}
        }
      ]
    },
    {
      "cell_type": "code",
      "source": [
        "# Histogram\n",
        "plt.figure(figsize=(8, 6))\n",
        "sns.histplot(DMart['Price'], bins=10, kde=True)\n",
        "plt.title('Histogram of Prices')\n",
        "plt.xlabel('Price')\n",
        "plt.ylabel('Frequency')\n",
        "plt.show()\n"
      ],
      "metadata": {
        "colab": {
          "base_uri": "https://localhost:8080/",
          "height": 564
        },
        "id": "bj-q95d8dtIS",
        "outputId": "ca8e2945-b305-4f44-948a-3e40640b8153"
      },
      "execution_count": 70,
      "outputs": [
        {
          "output_type": "display_data",
          "data": {
            "text/plain": [
              "<Figure size 800x600 with 1 Axes>"
            ],
            "image/png": "[encoded data removed]"
          },
          "metadata": {}
        }
      ]
    },
    {
      "cell_type": "code",
      "source": [
        "# Scatter Plot\n",
        "plt.figure(figsize=(8, 6))\n",
        "sns.scatterplot(x='Price', y='DiscountedPrice', data=DMart, hue='Brand')\n",
        "plt.title('Scatter Plot of Price vs Discounted Price')\n",
        "plt.xlabel('Price')\n",
        "plt.ylabel('Discounted Price')\n",
        "plt.show()"
      ],
      "metadata": {
        "colab": {
          "base_uri": "https://localhost:8080/",
          "height": 564
        },
        "id": "R6vrf8n5d7Fn",
        "outputId": "01ec4976-4622-434d-fa81-725cf2c31b05"
      },
      "execution_count": 72,
      "outputs": [
        {
          "output_type": "display_data",
          "data": {
            "text/plain": [
              "<Figure size 800x600 with 1 Axes>"
            ],
            "image/png": "[encoded data removed]"
          },
          "metadata": {}
        }
      ]
    },
    {
      "cell_type": "code",
      "source": [
        "# Bar Plot\n",
        "plt.figure(figsize=(8, 6))\n",
        "sns.barplot(x='Brand', y='Price', data=DMart)\n",
        "plt.title('Average Price by Brand')\n",
        "plt.xlabel('Brand')\n",
        "plt.ylabel('Average Price')\n",
        "plt.show()"
      ],
      "metadata": {
        "colab": {
          "base_uri": "https://localhost:8080/",
          "height": 564
        },
        "id": "p6xUsEydeKuB",
        "outputId": "ce6c7929-9b90-4acf-e76d-c68b8bdcc45f"
      },
      "execution_count": 73,
      "outputs": [
        {
          "output_type": "display_data",
          "data": {
            "text/plain": [
              "<Figure size 800x600 with 1 Axes>"
            ],
            "image/png": "[encoded data removed]"
          },
          "metadata": {}
        }
      ]
    },
    {
      "cell_type": "code",
      "source": [
        "# Correlation Heatmap\n",
        "plt.figure(figsize=(8, 6))\n",
        "correlation = DMart[['Price', 'DiscountedPrice']].corr()\n",
        "sns.heatmap(correlation, annot=True, cmap='coolwarm')\n",
        "plt.title('Correlation Heatmap')\n",
        "plt.show()"
      ],
      "metadata": {
        "colab": {
          "base_uri": "https://localhost:8080/",
          "height": 545
        },
        "id": "4ifb1sK0eSsm",
        "outputId": "271ef24b-f2e8-4811-cfe8-e950b658f3fb"
      },
      "execution_count": 74,
      "outputs": [
        {
          "output_type": "display_data",
          "data": {
            "text/plain": [
              "<Figure size 800x600 with 2 Axes>"
            ],
            "image/png": "[encoded data removed]"
          },
          "metadata": {}
        }
      ]
    },
    {
      "cell_type": "code",
      "source": [
        "import pandas as pd\n",
        "import matplotlib.pyplot as plt\n",
        "import seaborn as sns\n",
        "sns.pairplot(DMart[['Price', 'DiscountedPrice']])\n",
        "plt.show()"
      ],
      "metadata": {
        "id": "Cngww6OXd2eS",
        "colab": {
          "base_uri": "https://localhost:8080/",
          "height": 513
        },
        "outputId": "419af454-3e48-4b6d-a299-88536fafa5a5"
      },
      "execution_count": 57,
      "outputs": [
        {
          "output_type": "display_data",
          "data": {
            "text/plain": [
              "<Figure size 500x500 with 6 Axes>"
            ],
            "image/png": "[encoded data removed]"
          },
          "metadata": {}
        }
      ]
    },
    {
      "cell_type": "code",
      "source": [
        "# Data analysis\n",
        "# Grouping and aggregation\n",
        "grouped = DMart.groupby('Brand').agg({\n",
        "    'Price': ['mean', 'max', 'min', 'sum'],\n",
        "    'DiscountedPrice': ['mean', 'max', 'min', 'sum']\n",
        "}).reset_index()\n",
        "\n",
        "grouped.columns = ['Brand', 'Mean_Price', 'Max_Price', 'Min_Price', 'Total_Price', 'Mean_DiscountedPrice', 'Max_DiscountedPrice', 'Min_DiscountedPrice', 'Total_DiscountedPrice']\n",
        "print(grouped)"
      ],
      "metadata": {
        "colab": {
          "base_uri": "https://localhost:8080/"
        },
        "id": "6E7SMybpg2hb",
        "outputId": "beeb6be8-635f-4bf0-b88f-a6abcde6a770"
      },
      "execution_count": 79,
      "outputs": [
        {
          "output_type": "stream",
          "name": "stdout",
          "text": [
            "    Brand  Mean_Price  Max_Price  Min_Price  Total_Price  \\\n",
            "0  Nutraj      1074.0     1549.0      599.0       2148.0   \n",
            "1  Premia       254.0      451.0      109.0        762.0   \n",
            "\n",
            "   Mean_DiscountedPrice  Max_DiscountedPrice  Min_DiscountedPrice  \\\n",
            "0            504.000000                659.0                349.0   \n",
            "1            196.333333                329.0                 85.0   \n",
            "\n",
            "   Total_DiscountedPrice  \n",
            "0                 1008.0  \n",
            "1                  589.0  \n"
          ]
        }
      ]
    },
    {
      "cell_type": "code",
      "source": [
        "# Filtering and selection\n",
        "filtered_DMart = DMart[DMart['DiscountedPrice'] < 200][['Name', 'Brand', 'Price', 'DiscountedPrice']]\n",
        "print(filtered_DMart)"
      ],
      "metadata": {
        "colab": {
          "base_uri": "https://localhost:8080/"
        },
        "id": "OjPjqqvfhB8-",
        "outputId": "ec04b95b-39ef-4ea7-f065-287f393d3f30"
      },
      "execution_count": 80,
      "outputs": [
        {
          "output_type": "stream",
          "name": "stdout",
          "text": [
            "                     Name   Brand  Price  DiscountedPrice\n",
            "1  Premia Badam (Almonds)  Premia  109.0             85.0\n",
            "2  Premia Badam (Almonds)  Premia  202.0            175.0\n"
          ]
        }
      ]
    },
    {
      "cell_type": "code",
      "source": [
        "# Additional discount data\n",
        "discount_data = {\n",
        "    'Brand': ['Premia', 'Nutraj', 'Happilo', 'BB Royal'],\n",
        "    'DiscountRate': [0.27, 0.35, 0.10, 0.20]\n",
        "}\n",
        "discount_DMart = pd.DataFrame(discount_data)\n",
        "\n",
        "# Merging datasets\n",
        "merged_DMart = pd.merge(DMart, discount_DMart, on='Brand', how='left')\n",
        "print(merged_DMart)"
      ],
      "metadata": {
        "colab": {
          "base_uri": "https://localhost:8080/"
        },
        "id": "n86Z2htZhOPm",
        "outputId": "f94bb543-3485-4df0-9683-48533a3f8fd1"
      },
      "execution_count": 81,
      "outputs": [
        {
          "output_type": "stream",
          "name": "stdout",
          "text": [
            "                                Name   Brand   Price  DiscountedPrice  \\\n",
            "0             Premia Badam (Almonds)  Premia   451.0            329.0   \n",
            "1             Premia Badam (Almonds)  Premia   109.0             85.0   \n",
            "2             Premia Badam (Almonds)  Premia   202.0            175.0   \n",
            "3  Nutraj California Almonds (Badam)  Nutraj   599.0            349.0   \n",
            "4  Nutraj California Almonds (Badam)  Nutraj  1549.0            659.0   \n",
            "\n",
            "  Category         SubCategory Quantity Description  \\\n",
            "0  Grocery  Grocery/Dry Fruits   500 gm       India   \n",
            "1  Grocery  Grocery/Dry Fruits   100 gm       India   \n",
            "2  Grocery  Grocery/Dry Fruits   200 gm       India   \n",
            "3  Grocery          Dry Fruits   500 gm         USA   \n",
            "4  Grocery          Dry Fruits     1 kg         USA   \n",
            "\n",
            "                    BreadCrumbs  DiscountRate  \n",
            "0  Grocery > Grocery/Dry Fruits          0.27  \n",
            "1  Grocery > Grocery/Dry Fruits          0.27  \n",
            "2  Grocery > Grocery/Dry Fruits          0.27  \n",
            "3          Grocery > Dry Fruits          0.35  \n",
            "4          Grocery > Dry Fruits          0.35  \n"
          ]
        }
      ]
    }
  ]
}